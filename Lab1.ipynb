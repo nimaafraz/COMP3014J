{
 "cells": [
  {
   "cell_type": "markdown",
   "source": [
    "# Lab 1, COMP3014J, Random Numbers\n",
    "\n",
    "\n",
    "This Lab is a jupyter notebook which allows you to directly interact with\n",
    "the code so that you can see the effect of any changes you may like to make.\n",
    "\n",
    "Author: Nima Afraz, UCD"
   ],
   "metadata": {}
  },
  {
   "cell_type": "markdown",
   "source": [
    "Step 1: We import two libraries. \n",
    "1- Matplotlib is a plotting library for the Python programming language and its numerical mathematics extension NumPy.\n",
    "2- NumPy is a library for the Python programming language, adding support for large, multi-dimensional arrays and matrices, along with a large collection of high-level mathematical functions to operate on these arrays."
   ],
   "metadata": {}
  },
  {
   "cell_type": "code",
   "execution_count": 97,
   "source": [
    "import matplotlib.pyplot as plt\n",
    "import numpy as np"
   ],
   "outputs": [],
   "metadata": {}
  },
  {
   "cell_type": "markdown",
   "source": [
    "We create an array called 's' that includes 10 randomly generated numbers between 0 and 1 from the unfiform distribution.\n",
    "https://numpy.org/doc/stable/reference/random/generated/numpy.random.uniform.html"
   ],
   "metadata": {}
  },
  {
   "cell_type": "code",
   "execution_count": 98,
   "source": [
    "s = np.random.uniform(low=0.0, high=1.0, size=10)\n",
    "print (s)"
   ],
   "outputs": [
    {
     "output_type": "stream",
     "name": "stdout",
     "text": [
      "[0.26217267 0.19418188 0.88909112 0.97692169 0.10727356 0.01439156\n",
      " 0.88503551 0.33989441 0.15755164 0.00546911]\n"
     ]
    }
   ],
   "metadata": {}
  },
  {
   "cell_type": "markdown",
   "source": [
    "We create an array called 'uniform_random' that includes 1000000 randomly generated numbers between 0 and 1 from the unfiform distribution.\n",
    "https://numpy.org/doc/stable/reference/random/generated/numpy.random.uniform.html"
   ],
   "metadata": {}
  },
  {
   "cell_type": "code",
   "execution_count": 99,
   "source": [
    "uniform_random = np.random.uniform(low=0.0, high=1.0, size=1000000)"
   ],
   "outputs": [],
   "metadata": {}
  },
  {
   "cell_type": "markdown",
   "source": [
    "We plot the generated random numbers as a histogram with 100 bins."
   ],
   "metadata": {}
  },
  {
   "cell_type": "code",
   "execution_count": 100,
   "source": [
    "count, bins, ignored = plt.hist(uniform_random,100)\n",
    "plt.show()\n"
   ],
   "outputs": [
    {
     "output_type": "display_data",
     "data": {
      "image/png": "[encoded data removed]",
      "text/plain": [
       "<Figure size 432x288 with 1 Axes>"
      ]
     },
     "metadata": {
      "needs_background": "light"
     }
    }
   ],
   "metadata": {}
  },
  {
   "cell_type": "markdown",
   "source": [
    "We create an array called 'normal_random' that includes 1000000 randomly generated numbers between 0 and 1 from the normal distribution.\n",
    "https://numpy.org/doc/stable/reference/random/generated/numpy.random.normal.html"
   ],
   "metadata": {}
  },
  {
   "cell_type": "code",
   "execution_count": 101,
   "source": [
    "mu, sigma = 0.2, 0.9 # mean and standard deviation\n",
    "normal_random = np.random.normal(mu, sigma, 1000000)"
   ],
   "outputs": [],
   "metadata": {}
  },
  {
   "cell_type": "markdown",
   "source": [
    "We plot the generated random numbers as a histogram with 100 bins."
   ],
   "metadata": {}
  },
  {
   "cell_type": "code",
   "execution_count": 102,
   "source": [
    "count, bins, ignored = plt.hist(normal_random,100)\n",
    "plt.show()"
   ],
   "outputs": [
    {
     "output_type": "display_data",
     "data": {
      "image/png": "[encoded data removed]",
      "text/plain": [
       "<Figure size 432x288 with 1 Axes>"
      ]
     },
     "metadata": {
      "needs_background": "light"
     }
    }
   ],
   "metadata": {}
  }
 ],
 "metadata": {
  "anaconda-cloud": {},
  "kernelspec": {
   "name": "python3",
   "display_name": "Python 3.9.7 64-bit"
  },
  "language_info": {
   "codemirror_mode": {
    "name": "ipython",
    "version": 3
   },
   "file_extension": ".py",
   "mimetype": "text/x-python",
   "name": "python",
   "nbconvert_exporter": "python",
   "pygments_lexer": "ipython3",
   "version": "3.9.7"
  },
  "interpreter": {
   "hash": "aee8b7b246df8f9039afb4144a1f6fd8d2ca17a180786b69acc140d282b71a49"
  }
 },
 "nbformat": 4,
 "nbformat_minor": 1
}